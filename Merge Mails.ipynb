{
 "cells": [
  {
   "cell_type": "code",
   "execution_count": 1,
   "metadata": {},
   "outputs": [],
   "source": [
    "with open(\"./mails/names.txt\", 'r', encoding='utf-8') as names_file:\n",
    "\n",
    "    # open body.txt for reading\n",
    "    with open(\"./mails/body.txt\", 'r', encoding='utf-8') as body_file:\n",
    "\n",
    "        # read entire content of the body\n",
    "        body = body_file.read()\n",
    "\n",
    "        # iterate over names\n",
    "        for name in names_file:\n",
    "            mail = \"Hello \" + name.strip() + \"\\n\" + body\n",
    "\n",
    "            # write the mails to individual files\n",
    "            with open(name.strip()+\".txt\", 'w', encoding='utf-8') as mail_file:\n",
    "                mail_file.write(mail)"
   ]
  },
  {
   "cell_type": "code",
   "execution_count": null,
   "metadata": {},
   "outputs": [],
   "source": []
  }
 ],
 "metadata": {
  "kernelspec": {
   "display_name": "Python 3",
   "language": "python",
   "name": "python3"
  },
  "language_info": {
   "codemirror_mode": {
    "name": "ipython",
    "version": 3
   },
   "file_extension": ".py",
   "mimetype": "text/x-python",
   "name": "python",
   "nbconvert_exporter": "python",
   "pygments_lexer": "ipython3",
   "version": "3.8.5"
  }
 },
 "nbformat": 4,
 "nbformat_minor": 4
}
